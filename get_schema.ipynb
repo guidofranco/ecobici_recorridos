{
 "cells": [
  {
   "cell_type": "markdown",
   "metadata": {},
   "source": [
    "## **Get schema**"
   ]
  },
  {
   "cell_type": "markdown",
   "metadata": {},
   "source": [
    "Dado que la cantidad de columnas y sus nombres varían entre archivos, en este notebook se procede a interactuar con estos archivos para obtener los nombres de las columnas de interés para un posterior procesamiento"
   ]
  },
  {
   "cell_type": "code",
   "execution_count": 27,
   "metadata": {},
   "outputs": [
    {
     "name": "stdout",
     "output_type": "stream",
     "text": [
      "668K recorridos-realizados-2010.csv\n",
      " 83M recorridos-realizados-2011.csv\n",
      "139M recorridos-realizados-2012.csv\n",
      "247M recorridos-realizados-2013.csv\n",
      "424M recorridos-realizados-2014.csv\n",
      "112M recorridos-realizados-2015.csv\n",
      "133M recorridos-realizados-2016.csv\n",
      "238M recorridos-realizados-2017.csv\n",
      "630M recorridos-realizados-2018.csv\n",
      "649M recorridos-realizados-2019.csv\n"
     ]
    }
   ],
   "source": [
    "!ls -sh | grep recorridos-realizados"
   ]
  },
  {
   "cell_type": "code",
   "execution_count": 28,
   "metadata": {},
   "outputs": [
    {
     "name": "stdout",
     "output_type": "stream",
     "text": [
      "==> recorridos-realizados-2010.csv <==\n",
      "periodo,fecha_origen_recorrido,id_estacion_origen,nombre_estacion_origen,long_estacion_origen,lat_estacion_origen,domicilio_estacion_origen,duracion_recorrido,fecha_destino_recorrido,id_estacion_destino,nombre_estacion_destino,long_estacion_destino,lat_estacion_destino,domicilio_estacion_destino\n",
      "\n",
      "==> recorridos-realizados-2011.csv <==\n",
      "periodo,fecha_origen_recorrido,id_estacion_origen,nombre_estacion_origen,long_estacion_origen,lat_estacion_origen,domicilio_estacion_origen,duracion_recorrido,fecha_destino_recorrido,id_estacion_destino,nombre_estacion_destino,long_estacion_destino,lat_estacion_destino,domicilio_estacion_destino\n",
      "\n",
      "==> recorridos-realizados-2012.csv <==\n",
      "periodo,fecha_origen_recorrido,id_estacion_origen,nombre_estacion_origen,lat_estacion_origen,long_estacion_origen,domicilio_estacion_origen,duracion_recorrido,fecha_destino_recorrido,id_estacion_destino,nombre_estacion_destino,lat_estacion_destino,long_estacion_destino,domicilio_estacion_destino\n",
      "\n",
      "==> recorridos-realizados-2013.csv <==\n",
      "periodo,id_usuario,fecha_origen_recorrido,id_estacion_origen,nombre_estacion_origen,long_estacion_origen,lat_estacion_origen,domicilio_estacion_origen,duracion_recorrido,fecha_destino_recorrido,id_estacion_destino,nombre_estacion_destino,long_estacion_destino,lat_estacion_destino,domicilio_estacion_destino\n",
      "\n",
      "==> recorridos-realizados-2014.csv <==\n",
      "id_usuario,origen_recorrido_fecha,id_estacion_origen,nombre_estacion_origen,long_estacion_origen,lat_estacion_origen,domicilio_estacion_origen,tipo_estacion_origen,observaciones_estacion_origen,horario_estacion_origen,duracion_recorrido,destino_recorrido_fecha,id_estacion_destino,nombre_estacion_destino,long_estacion_destino,lat_estacion_destino,domicilio_estacion_destino,tipo_estacion_destino,observaciones_estacion_destino,horario_estacion_destino\n",
      "\n",
      "==> recorridos-realizados-2015.csv <==\n",
      "periodo,genero_usuario,fecha_origen_recorrido,id_estacion_origen,nombre_estacion_origen,long_estacion_origen,lat_estacion_origen,domicilio_estacion_origen,duracion_recorrido,fecha_destino_recorrido,id_estacion_destino,nombre_estacion_destino,long_estacion_destino,lat_estacion_destino,domicilio_estacion_destino\n",
      "\n",
      "==> recorridos-realizados-2016.csv <==\n",
      "periodo,genero_usuario,fecha_origen_recorrido,id_estacion_origen,nombre_estacion_origen,long_estacion_origen,lat_estacion_origen,domicilio_estacion_origen,duracion_recorrido,fecha_destino_recorrido,id_estacion_destino,nombre_estacion_destino,long_estacion_destino,lat_estacion_destino,domicilio_estacion_destino\n",
      "\n",
      "==> recorridos-realizados-2017.csv <==\n",
      "periodo,genero_usuario,fecha_origen_recorrido,id_estacion_origen,nombre_estacion_origen,long_estacion_origen,lat_estacion_origen,domicilio_estacion_origen,duracion_recorrido,fecha_destino_recorrido,id_estacion_destino,nombre_estacion_destino,long_estacion_destino,lat_estacion_destino,domicilio_estacion_destino\n",
      "\n",
      "==> recorridos-realizados-2018.csv <==\n",
      "id_usuario,genero_usuario,fecha_origen_recorrido,id_estacion_origen,nombre_estacion_origen,long_estacion_origen,lat_estacion_origen,domicilio_estacion_origen,duracion_recorrido,fecha_destino_recorrido,id_estacion_destino,nombre_estacion_destino,long_estacion_destino,lat_estacion_destino,domicilio_estacion_destino\n",
      "\n",
      "==> recorridos-realizados-2019.csv <==\n",
      "id_usuario,edad_usuario,genero_usuario,fecha_origen_recorrido,id_estacion_origen,nombre_estacion_origen,direccion_estacion_origen,capacidad_estacion_origen,lat_estacion_origen,long_estacion_origen,duracion_recorrido,fecha_destino_recorrido,id_estacion_destino,nombre_estacion_destino,direccion_estacion_destino,capacidad_estacion_destino,lat_estacion_destino,long_estacion_destino,servicio\n"
     ]
    }
   ],
   "source": [
    "!head -1 recorridos-realizados-201*.csv"
   ]
  },
  {
   "cell_type": "markdown",
   "metadata": {},
   "source": [
    "Luego de un vistazo rápido a las columnas presentes en cada archivo, concluyo que dado para un recorrido es necesario tener el identicador de la estación origen y destino. Luego mediante un cruzamento con otro archivo sobre las estaciones, se podrán obtener datos como el nombre de la estación. \n",
    "Los campos sobre la longitud y latitud de la estación ya son útiles para luego obtener, si es necesario, la dirección concreta sobre la que se ubica la estación.\n",
    "Obviamente, es necesario retener los campos sobre las fechas y duración del recorrido.\n",
    "Los demás campos se pueden descartar, como datos concretos sobre la capacidad o los usuarios del recorrido (no todos los archivos tienen datos sobre el usuario del recorrido)."
   ]
  },
  {
   "cell_type": "code",
   "execution_count": 29,
   "metadata": {},
   "outputs": [],
   "source": [
    "import pandas as pd\n",
    "import json"
   ]
  },
  {
   "cell_type": "code",
   "execution_count": 30,
   "metadata": {},
   "outputs": [
    {
     "data": {
      "text/plain": [
       "['recorridos-realizados-2010.csv',\n",
       " 'recorridos-realizados-2011.csv',\n",
       " 'recorridos-realizados-2012.csv',\n",
       " 'recorridos-realizados-2013.csv',\n",
       " 'recorridos-realizados-2014.csv',\n",
       " 'recorridos-realizados-2015.csv',\n",
       " 'recorridos-realizados-2016.csv',\n",
       " 'recorridos-realizados-2017.csv',\n",
       " 'recorridos-realizados-2018.csv',\n",
       " 'recorridos-realizados-2019.csv']"
      ]
     },
     "execution_count": 30,
     "metadata": {},
     "output_type": "execute_result"
    }
   ],
   "source": [
    "files = [f\"recorridos-realizados-201{i}.csv\" for i in range(10)]\n",
    "files"
   ]
  },
  {
   "cell_type": "markdown",
   "metadata": {},
   "source": [
    "Crearemos un diccionario, donde cada clave representará el nombre del archivo y su respectivo valor será una lista con sus columnas"
   ]
  },
  {
   "cell_type": "code",
   "execution_count": 31,
   "metadata": {},
   "outputs": [
    {
     "name": "stdout",
     "output_type": "stream",
     "text": [
      "File: recorridos-realizados-2010.csv\tColumns: 14\n",
      "\n",
      "File: recorridos-realizados-2011.csv\tColumns: 14\n",
      "\n",
      "File: recorridos-realizados-2012.csv\tColumns: 14\n",
      "\n",
      "File: recorridos-realizados-2013.csv\tColumns: 15\n",
      "\n",
      "File: recorridos-realizados-2014.csv\tColumns: 20\n",
      "\n",
      "File: recorridos-realizados-2015.csv\tColumns: 15\n",
      "\n",
      "File: recorridos-realizados-2016.csv\tColumns: 15\n",
      "\n",
      "File: recorridos-realizados-2017.csv\tColumns: 15\n",
      "\n",
      "File: recorridos-realizados-2018.csv\tColumns: 15\n",
      "\n",
      "File: recorridos-realizados-2019.csv\tColumns: 19\n",
      "\n"
     ]
    }
   ],
   "source": [
    "columns_per_files = {}\n",
    "for file in files:\n",
    "    df = pd.read_csv(file, nrows=1)\n",
    "    print(f\"File: {file}\\tColumns: {len(df.columns)}\\n\")\n",
    "    columns_per_files[file] = df.columns"
   ]
  },
  {
   "cell_type": "markdown",
   "metadata": {},
   "source": [
    "Con los campos que todos los archivos deben tener, procedemos a filtrar.\n",
    "En algunos archivos difiere el orden de las columnas. Unos presentan latidad y longitud, mientras que otros lo presentan en el orden inverso. También ocurre que para un mismo campo, presentan un nombre diferente como \"fecha_origen_recorrido\" y \"origen_recorrido_fecha\""
   ]
  },
  {
   "cell_type": "code",
   "execution_count": 32,
   "metadata": {},
   "outputs": [
    {
     "name": "stdout",
     "output_type": "stream",
     "text": [
      "File: recorridos-realizados-2010.csv\t Columns:9\n",
      "Index(['periodo', 'fecha_origen_recorrido', 'id_estacion_origen',\n",
      "       'nombre_estacion_origen', 'long_estacion_origen', 'lat_estacion_origen',\n",
      "       'domicilio_estacion_origen', 'duracion_recorrido',\n",
      "       'fecha_destino_recorrido', 'id_estacion_destino',\n",
      "       'nombre_estacion_destino', 'long_estacion_destino',\n",
      "       'lat_estacion_destino', 'domicilio_estacion_destino'],\n",
      "      dtype='object')\n",
      "\n",
      "File: recorridos-realizados-2011.csv\t Columns:9\n",
      "Index(['periodo', 'fecha_origen_recorrido', 'id_estacion_origen',\n",
      "       'nombre_estacion_origen', 'long_estacion_origen', 'lat_estacion_origen',\n",
      "       'domicilio_estacion_origen', 'duracion_recorrido',\n",
      "       'fecha_destino_recorrido', 'id_estacion_destino',\n",
      "       'nombre_estacion_destino', 'long_estacion_destino',\n",
      "       'lat_estacion_destino', 'domicilio_estacion_destino'],\n",
      "      dtype='object')\n",
      "\n",
      "File: recorridos-realizados-2012.csv\t Columns:9\n",
      "Index(['periodo', 'fecha_origen_recorrido', 'id_estacion_origen',\n",
      "       'nombre_estacion_origen', 'lat_estacion_origen', 'long_estacion_origen',\n",
      "       'domicilio_estacion_origen', 'duracion_recorrido',\n",
      "       'fecha_destino_recorrido', 'id_estacion_destino',\n",
      "       'nombre_estacion_destino', 'lat_estacion_destino',\n",
      "       'long_estacion_destino', 'domicilio_estacion_destino'],\n",
      "      dtype='object')\n",
      "\n",
      "File: recorridos-realizados-2013.csv\t Columns:9\n",
      "Index(['periodo', 'id_usuario', 'fecha_origen_recorrido', 'id_estacion_origen',\n",
      "       'nombre_estacion_origen', 'long_estacion_origen', 'lat_estacion_origen',\n",
      "       'domicilio_estacion_origen', 'duracion_recorrido',\n",
      "       'fecha_destino_recorrido', 'id_estacion_destino',\n",
      "       'nombre_estacion_destino', 'long_estacion_destino',\n",
      "       'lat_estacion_destino', 'domicilio_estacion_destino'],\n",
      "      dtype='object')\n",
      "\n",
      "File: recorridos-realizados-2014.csv\t Columns:9\n",
      "Index(['id_usuario', 'origen_recorrido_fecha', 'id_estacion_origen',\n",
      "       'nombre_estacion_origen', 'long_estacion_origen', 'lat_estacion_origen',\n",
      "       'domicilio_estacion_origen', 'tipo_estacion_origen',\n",
      "       'observaciones_estacion_origen', 'horario_estacion_origen',\n",
      "       'duracion_recorrido', 'destino_recorrido_fecha', 'id_estacion_destino',\n",
      "       'nombre_estacion_destino', 'long_estacion_destino',\n",
      "       'lat_estacion_destino', 'domicilio_estacion_destino',\n",
      "       'tipo_estacion_destino', 'observaciones_estacion_destino',\n",
      "       'horario_estacion_destino'],\n",
      "      dtype='object')\n",
      "\n",
      "File: recorridos-realizados-2015.csv\t Columns:9\n",
      "Index(['periodo', 'genero_usuario', 'fecha_origen_recorrido',\n",
      "       'id_estacion_origen', 'nombre_estacion_origen', 'long_estacion_origen',\n",
      "       'lat_estacion_origen', 'domicilio_estacion_origen',\n",
      "       'duracion_recorrido', 'fecha_destino_recorrido', 'id_estacion_destino',\n",
      "       'nombre_estacion_destino', 'long_estacion_destino',\n",
      "       'lat_estacion_destino', 'domicilio_estacion_destino'],\n",
      "      dtype='object')\n",
      "\n",
      "File: recorridos-realizados-2016.csv\t Columns:9\n",
      "Index(['periodo', 'genero_usuario', 'fecha_origen_recorrido',\n",
      "       'id_estacion_origen', 'nombre_estacion_origen', 'long_estacion_origen',\n",
      "       'lat_estacion_origen', 'domicilio_estacion_origen',\n",
      "       'duracion_recorrido', 'fecha_destino_recorrido', 'id_estacion_destino',\n",
      "       'nombre_estacion_destino', 'long_estacion_destino',\n",
      "       'lat_estacion_destino', 'domicilio_estacion_destino'],\n",
      "      dtype='object')\n",
      "\n",
      "File: recorridos-realizados-2017.csv\t Columns:9\n",
      "Index(['periodo', 'genero_usuario', 'fecha_origen_recorrido',\n",
      "       'id_estacion_origen', 'nombre_estacion_origen', 'long_estacion_origen',\n",
      "       'lat_estacion_origen', 'domicilio_estacion_origen',\n",
      "       'duracion_recorrido', 'fecha_destino_recorrido', 'id_estacion_destino',\n",
      "       'nombre_estacion_destino', 'long_estacion_destino',\n",
      "       'lat_estacion_destino', 'domicilio_estacion_destino'],\n",
      "      dtype='object')\n",
      "\n",
      "File: recorridos-realizados-2018.csv\t Columns:9\n",
      "Index(['id_usuario', 'genero_usuario', 'fecha_origen_recorrido',\n",
      "       'id_estacion_origen', 'nombre_estacion_origen', 'long_estacion_origen',\n",
      "       'lat_estacion_origen', 'domicilio_estacion_origen',\n",
      "       'duracion_recorrido', 'fecha_destino_recorrido', 'id_estacion_destino',\n",
      "       'nombre_estacion_destino', 'long_estacion_destino',\n",
      "       'lat_estacion_destino', 'domicilio_estacion_destino'],\n",
      "      dtype='object')\n",
      "\n",
      "File: recorridos-realizados-2019.csv\t Columns:9\n",
      "Index(['id_usuario', 'edad_usuario', 'genero_usuario',\n",
      "       'fecha_origen_recorrido', 'id_estacion_origen',\n",
      "       'nombre_estacion_origen', 'direccion_estacion_origen',\n",
      "       'capacidad_estacion_origen', 'lat_estacion_origen',\n",
      "       'long_estacion_origen', 'duracion_recorrido', 'fecha_destino_recorrido',\n",
      "       'id_estacion_destino', 'nombre_estacion_destino',\n",
      "       'direccion_estacion_destino', 'capacidad_estacion_destino',\n",
      "       'lat_estacion_destino', 'long_estacion_destino', 'servicio'],\n",
      "      dtype='object')\n",
      "\n"
     ]
    }
   ],
   "source": [
    "for file, columns in columns_per_files.items():\n",
    "    columns_per_files[file] = list(filter(lambda s: \\\n",
    "                                         'fecha' in s or 'id_estacion' in s \\\n",
    "                                         or 'lat' in s or 'long' in s or 'duracion' in s, \\\n",
    "                                         columns))\n",
    "    print(f\"File: {file}\\t Columns:{len(columns_per_files[file])}\")\n",
    "    print(columns, end=\"\\n\\n\")"
   ]
  },
  {
   "cell_type": "markdown",
   "metadata": {},
   "source": [
    "De esta forma, ya tenemos definidos los nombres de las columnas a leer para cada archivo.\n",
    "Continuamos exportándolo a un archivo JSON"
   ]
  },
  {
   "cell_type": "code",
   "execution_count": 33,
   "metadata": {},
   "outputs": [],
   "source": [
    "with open('files_schema.json', 'w') as json_file:\n",
    "    json.dump(columns_per_files, json_file)"
   ]
  }
 ],
 "metadata": {
  "kernelspec": {
   "display_name": "Python 3",
   "language": "python",
   "name": "python3"
  },
  "language_info": {
   "codemirror_mode": {
    "name": "ipython",
    "version": 3
   },
   "file_extension": ".py",
   "mimetype": "text/x-python",
   "name": "python",
   "nbconvert_exporter": "python",
   "pygments_lexer": "ipython3",
   "version": "3.7.6"
  }
 },
 "nbformat": 4,
 "nbformat_minor": 4
}

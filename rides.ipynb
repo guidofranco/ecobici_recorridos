{
 "cells": [
  {
   "cell_type": "markdown",
   "metadata": {},
   "source": [
    "## **Ecobici data**\n",
    "\n",
    "Trabajando con datos abiertos del gobierno de CABA referidos a recorridos/viajes realizados en las biciclietas del sistema de Bike Sharing de CABA, \"EcoBici\". Los datos comprenden el periodo 2010-2019."
   ]
  },
  {
   "cell_type": "code",
   "execution_count": 1,
   "metadata": {},
   "outputs": [],
   "source": [
    "from pyspark.sql import SparkSession\n",
    "from pyspark.sql import functions as F\n",
    "from pyspark.sql import types as T\n",
    "\n",
    "import pandas as pd\n",
    "import json"
   ]
  },
  {
   "cell_type": "code",
   "execution_count": 2,
   "metadata": {},
   "outputs": [],
   "source": [
    "spark = SparkSession.builder \\\n",
    "        .master(\"local[*]\") \\\n",
    "        .appName(\"ecobici\") \\\n",
    "        .getOrCreate()"
   ]
  },
  {
   "cell_type": "markdown",
   "metadata": {},
   "source": [
    "Los archivos no mantienen un esquema homogéneo entre sí. Tienen diferentes números y nombres de columna.\n",
    "\n",
    "Previamente, se ha trabajado para descartar algunas columnas y obtener un archivo JSON con los nombres de las columnas para uno de los archivos."
   ]
  },
  {
   "cell_type": "code",
   "execution_count": 3,
   "metadata": {},
   "outputs": [
    {
     "data": {
      "text/plain": [
       "{'recorridos-realizados-2010.csv': ['fecha_origen_recorrido',\n",
       "  'id_estacion_origen',\n",
       "  'long_estacion_origen',\n",
       "  'lat_estacion_origen',\n",
       "  'duracion_recorrido',\n",
       "  'fecha_destino_recorrido',\n",
       "  'id_estacion_destino',\n",
       "  'long_estacion_destino',\n",
       "  'lat_estacion_destino'],\n",
       " 'recorridos-realizados-2011.csv': ['fecha_origen_recorrido',\n",
       "  'id_estacion_origen',\n",
       "  'long_estacion_origen',\n",
       "  'lat_estacion_origen',\n",
       "  'duracion_recorrido',\n",
       "  'fecha_destino_recorrido',\n",
       "  'id_estacion_destino',\n",
       "  'long_estacion_destino',\n",
       "  'lat_estacion_destino'],\n",
       " 'recorridos-realizados-2012.csv': ['fecha_origen_recorrido',\n",
       "  'id_estacion_origen',\n",
       "  'lat_estacion_origen',\n",
       "  'long_estacion_origen',\n",
       "  'duracion_recorrido',\n",
       "  'fecha_destino_recorrido',\n",
       "  'id_estacion_destino',\n",
       "  'lat_estacion_destino',\n",
       "  'long_estacion_destino'],\n",
       " 'recorridos-realizados-2013.csv': ['fecha_origen_recorrido',\n",
       "  'id_estacion_origen',\n",
       "  'long_estacion_origen',\n",
       "  'lat_estacion_origen',\n",
       "  'duracion_recorrido',\n",
       "  'fecha_destino_recorrido',\n",
       "  'id_estacion_destino',\n",
       "  'long_estacion_destino',\n",
       "  'lat_estacion_destino'],\n",
       " 'recorridos-realizados-2014.csv': ['origen_recorrido_fecha',\n",
       "  'id_estacion_origen',\n",
       "  'long_estacion_origen',\n",
       "  'lat_estacion_origen',\n",
       "  'duracion_recorrido',\n",
       "  'destino_recorrido_fecha',\n",
       "  'id_estacion_destino',\n",
       "  'long_estacion_destino',\n",
       "  'lat_estacion_destino'],\n",
       " 'recorridos-realizados-2015.csv': ['fecha_origen_recorrido',\n",
       "  'id_estacion_origen',\n",
       "  'long_estacion_origen',\n",
       "  'lat_estacion_origen',\n",
       "  'duracion_recorrido',\n",
       "  'fecha_destino_recorrido',\n",
       "  'id_estacion_destino',\n",
       "  'long_estacion_destino',\n",
       "  'lat_estacion_destino'],\n",
       " 'recorridos-realizados-2016.csv': ['fecha_origen_recorrido',\n",
       "  'id_estacion_origen',\n",
       "  'long_estacion_origen',\n",
       "  'lat_estacion_origen',\n",
       "  'duracion_recorrido',\n",
       "  'fecha_destino_recorrido',\n",
       "  'id_estacion_destino',\n",
       "  'long_estacion_destino',\n",
       "  'lat_estacion_destino'],\n",
       " 'recorridos-realizados-2017.csv': ['fecha_origen_recorrido',\n",
       "  'id_estacion_origen',\n",
       "  'long_estacion_origen',\n",
       "  'lat_estacion_origen',\n",
       "  'duracion_recorrido',\n",
       "  'fecha_destino_recorrido',\n",
       "  'id_estacion_destino',\n",
       "  'long_estacion_destino',\n",
       "  'lat_estacion_destino'],\n",
       " 'recorridos-realizados-2018.csv': ['fecha_origen_recorrido',\n",
       "  'id_estacion_origen',\n",
       "  'long_estacion_origen',\n",
       "  'lat_estacion_origen',\n",
       "  'duracion_recorrido',\n",
       "  'fecha_destino_recorrido',\n",
       "  'id_estacion_destino',\n",
       "  'long_estacion_destino',\n",
       "  'lat_estacion_destino'],\n",
       " 'recorridos-realizados-2019.csv': ['fecha_origen_recorrido',\n",
       "  'id_estacion_origen',\n",
       "  'lat_estacion_origen',\n",
       "  'long_estacion_origen',\n",
       "  'duracion_recorrido',\n",
       "  'fecha_destino_recorrido',\n",
       "  'id_estacion_destino',\n",
       "  'lat_estacion_destino',\n",
       "  'long_estacion_destino']}"
      ]
     },
     "execution_count": 3,
     "metadata": {},
     "output_type": "execute_result"
    }
   ],
   "source": [
    "with open(\"files_schema.json\", \"r\") as json_file:\n",
    "    columns_per_files = json.load(json_file)\n",
    "columns_per_files"
   ]
  },
  {
   "cell_type": "markdown",
   "metadata": {},
   "source": [
    "### **Null values**\n",
    "Primero contaremos los valores nulos para cada una de las columnas de cada archivo"
   ]
  },
  {
   "cell_type": "code",
   "execution_count": 4,
   "metadata": {},
   "outputs": [
    {
     "name": "stdout",
     "output_type": "stream",
     "text": [
      "recorridos-realizados-2010.csv\n",
      "Column: fecha_origen_recorrido\t Nulls: 0\n",
      "Column: id_estacion_origen\t Nulls: 0\n",
      "Column: long_estacion_origen\t Nulls: 0\n",
      "Column: lat_estacion_origen\t Nulls: 0\n",
      "Column: duracion_recorrido\t Nulls: 3\n",
      "Column: fecha_destino_recorrido\t Nulls: 0\n",
      "Column: id_estacion_destino\t Nulls: 0\n",
      "Column: long_estacion_destino\t Nulls: 0\n",
      "Column: lat_estacion_destino\t Nulls: 0\n",
      "recorridos-realizados-2011.csv\n",
      "Column: fecha_origen_recorrido\t Nulls: 0\n",
      "Column: id_estacion_origen\t Nulls: 85\n",
      "Column: long_estacion_origen\t Nulls: 85\n",
      "Column: lat_estacion_origen\t Nulls: 85\n",
      "Column: duracion_recorrido\t Nulls: 148\n",
      "Column: fecha_destino_recorrido\t Nulls: 0\n",
      "Column: id_estacion_destino\t Nulls: 178\n",
      "Column: long_estacion_destino\t Nulls: 178\n",
      "Column: lat_estacion_destino\t Nulls: 178\n",
      "recorridos-realizados-2012.csv\n",
      "Column: fecha_origen_recorrido\t Nulls: 0\n",
      "Column: id_estacion_origen\t Nulls: 2487\n",
      "Column: lat_estacion_origen\t Nulls: 2487\n",
      "Column: long_estacion_origen\t Nulls: 2487\n",
      "Column: duracion_recorrido\t Nulls: 652\n",
      "Column: fecha_destino_recorrido\t Nulls: 0\n",
      "Column: id_estacion_destino\t Nulls: 2849\n",
      "Column: lat_estacion_destino\t Nulls: 2849\n",
      "Column: long_estacion_destino\t Nulls: 2849\n",
      "recorridos-realizados-2013.csv\n",
      "Column: fecha_origen_recorrido\t Nulls: 0\n",
      "Column: id_estacion_origen\t Nulls: 35156\n",
      "Column: long_estacion_origen\t Nulls: 35156\n",
      "Column: lat_estacion_origen\t Nulls: 35156\n",
      "Column: duracion_recorrido\t Nulls: 0\n",
      "Column: fecha_destino_recorrido\t Nulls: 0\n",
      "Column: id_estacion_destino\t Nulls: 37089\n",
      "Column: long_estacion_destino\t Nulls: 37089\n",
      "Column: lat_estacion_destino\t Nulls: 37089\n",
      "recorridos-realizados-2014.csv\n",
      "Column: origen_recorrido_fecha\t Nulls: 0\n",
      "Column: id_estacion_origen\t Nulls: 123064\n",
      "Column: long_estacion_origen\t Nulls: 123064\n",
      "Column: lat_estacion_origen\t Nulls: 123064\n",
      "Column: duracion_recorrido\t Nulls: 0\n",
      "Column: destino_recorrido_fecha\t Nulls: 0\n",
      "Column: id_estacion_destino\t Nulls: 131550\n",
      "Column: long_estacion_destino\t Nulls: 131550\n",
      "Column: lat_estacion_destino\t Nulls: 131550\n",
      "recorridos-realizados-2015.csv\n",
      "Column: fecha_origen_recorrido\t Nulls: 0\n",
      "Column: id_estacion_origen\t Nulls: 0\n",
      "Column: long_estacion_origen\t Nulls: 3168\n",
      "Column: lat_estacion_origen\t Nulls: 3168\n",
      "Column: duracion_recorrido\t Nulls: 0\n",
      "Column: fecha_destino_recorrido\t Nulls: 0\n",
      "Column: id_estacion_destino\t Nulls: 0\n",
      "Column: long_estacion_destino\t Nulls: 3462\n",
      "Column: lat_estacion_destino\t Nulls: 3462\n",
      "recorridos-realizados-2016.csv\n",
      "Column: fecha_origen_recorrido\t Nulls: 0\n",
      "Column: id_estacion_origen\t Nulls: 0\n",
      "Column: long_estacion_origen\t Nulls: 0\n",
      "Column: lat_estacion_origen\t Nulls: 0\n",
      "Column: duracion_recorrido\t Nulls: 0\n",
      "Column: fecha_destino_recorrido\t Nulls: 93555\n",
      "Column: id_estacion_destino\t Nulls: 0\n",
      "Column: long_estacion_destino\t Nulls: 0\n",
      "Column: lat_estacion_destino\t Nulls: 0\n",
      "recorridos-realizados-2017.csv\n",
      "Column: fecha_origen_recorrido\t Nulls: 0\n",
      "Column: id_estacion_origen\t Nulls: 3419\n",
      "Column: long_estacion_origen\t Nulls: 3419\n",
      "Column: lat_estacion_origen\t Nulls: 3419\n",
      "Column: duracion_recorrido\t Nulls: 0\n",
      "Column: fecha_destino_recorrido\t Nulls: 544906\n",
      "Column: id_estacion_destino\t Nulls: 3496\n",
      "Column: long_estacion_destino\t Nulls: 3496\n",
      "Column: lat_estacion_destino\t Nulls: 3496\n",
      "recorridos-realizados-2018.csv\n",
      "Column: fecha_origen_recorrido\t Nulls: 0\n",
      "Column: id_estacion_origen\t Nulls: 30224\n",
      "Column: long_estacion_origen\t Nulls: 30224\n",
      "Column: lat_estacion_origen\t Nulls: 30224\n",
      "Column: duracion_recorrido\t Nulls: 43723\n",
      "Column: fecha_destino_recorrido\t Nulls: 43723\n",
      "Column: id_estacion_destino\t Nulls: 30486\n",
      "Column: long_estacion_destino\t Nulls: 30486\n",
      "Column: lat_estacion_destino\t Nulls: 30486\n",
      "recorridos-realizados-2019.csv\n",
      "Column: fecha_origen_recorrido\t Nulls: 0\n",
      "Column: id_estacion_origen\t Nulls: 14621\n",
      "Column: lat_estacion_origen\t Nulls: 16764\n",
      "Column: long_estacion_origen\t Nulls: 16764\n",
      "Column: duracion_recorrido\t Nulls: 145\n",
      "Column: fecha_destino_recorrido\t Nulls: 145\n",
      "Column: id_estacion_destino\t Nulls: 14719\n",
      "Column: lat_estacion_destino\t Nulls: 17017\n",
      "Column: long_estacion_destino\t Nulls: 17017\n"
     ]
    }
   ],
   "source": [
    "for file, columns in columns_per_files.items():\n",
    "    print(file)\n",
    "    rides = spark.read.csv(file, header=True)\n",
    "    rides = rides.select(*columns)\n",
    "    for column in columns:\n",
    "        print(f\"Column: {column}\\t Nulls: {rides.filter(F.isnull(column)).count()}\")"
   ]
  },
  {
   "cell_type": "markdown",
   "metadata": {},
   "source": [
    "El análisis de estos valores nulos se puede separar de acuerdo a grupos de columnas.\n",
    "\n",
    "Con respecto a los campos ***id_estacion***, ***lat*** y ***long*** (tanto para la estación origen como destino): Mantienen el mismo número de valores nulos entre sí, podemos borrar aquellas filas con valores nulos para el campo id_estacion (ya sea origen o destino) ya que sin ese id no es posible obtener otros datos de la estacion.\n",
    "\n",
    "Sobre las ***fechas*** y ***duración*** del recorrido: Todos los archivos tienen una fecha de origen del recorrido. Si hay filas con valores nulos para los campos duracion y fecha de destino del recorrido, se descartan. Si solo una de esas fuese nula, puede obtener mediante funciones que correspondan."
   ]
  },
  {
   "cell_type": "markdown",
   "metadata": {},
   "source": [
    "### **Deleting null values**"
   ]
  },
  {
   "cell_type": "code",
   "execution_count": 5,
   "metadata": {},
   "outputs": [
    {
     "name": "stdout",
     "output_type": "stream",
     "text": [
      "recorridos-realizados-2010.csv\n",
      "Columns to inspect: ['id_estacion_origen', 'long_estacion_origen', 'lat_estacion_origen']\n",
      "Columns to inspect: ['id_estacion_destino', 'long_estacion_destino', 'lat_estacion_destino']\n",
      "Columns to inspect: ['duracion_recorrido', 'fecha_destino_recorrido']\n",
      "Column: fecha_origen_recorrido\t Nulls: 0\n",
      "Column: id_estacion_origen\t Nulls: 0\n",
      "Column: long_estacion_origen\t Nulls: 0\n",
      "Column: lat_estacion_origen\t Nulls: 0\n",
      "Column: duracion_recorrido\t Nulls: 3\n",
      "Column: fecha_destino_recorrido\t Nulls: 0\n",
      "Column: id_estacion_destino\t Nulls: 0\n",
      "Column: long_estacion_destino\t Nulls: 0\n",
      "Column: lat_estacion_destino\t Nulls: 0\n",
      "recorridos-realizados-2011.csv\n",
      "Columns to inspect: ['id_estacion_origen', 'long_estacion_origen', 'lat_estacion_origen']\n",
      "Columns to inspect: ['id_estacion_destino', 'long_estacion_destino', 'lat_estacion_destino']\n",
      "Columns to inspect: ['duracion_recorrido', 'fecha_destino_recorrido']\n",
      "Column: fecha_origen_recorrido\t Nulls: 0\n",
      "Column: id_estacion_origen\t Nulls: 0\n",
      "Column: long_estacion_origen\t Nulls: 0\n",
      "Column: lat_estacion_origen\t Nulls: 0\n",
      "Column: duracion_recorrido\t Nulls: 147\n",
      "Column: fecha_destino_recorrido\t Nulls: 0\n",
      "Column: id_estacion_destino\t Nulls: 0\n",
      "Column: long_estacion_destino\t Nulls: 0\n",
      "Column: lat_estacion_destino\t Nulls: 0\n",
      "recorridos-realizados-2012.csv\n",
      "Columns to inspect: ['id_estacion_origen', 'lat_estacion_origen', 'long_estacion_origen']\n",
      "Columns to inspect: ['id_estacion_destino', 'lat_estacion_destino', 'long_estacion_destino']\n",
      "Columns to inspect: ['duracion_recorrido', 'fecha_destino_recorrido']\n",
      "Column: fecha_origen_recorrido\t Nulls: 0\n",
      "Column: id_estacion_origen\t Nulls: 0\n",
      "Column: lat_estacion_origen\t Nulls: 0\n",
      "Column: long_estacion_origen\t Nulls: 0\n",
      "Column: duracion_recorrido\t Nulls: 615\n",
      "Column: fecha_destino_recorrido\t Nulls: 0\n",
      "Column: id_estacion_destino\t Nulls: 0\n",
      "Column: lat_estacion_destino\t Nulls: 0\n",
      "Column: long_estacion_destino\t Nulls: 0\n",
      "recorridos-realizados-2013.csv\n",
      "Columns to inspect: ['id_estacion_origen', 'long_estacion_origen', 'lat_estacion_origen']\n",
      "Columns to inspect: ['id_estacion_destino', 'long_estacion_destino', 'lat_estacion_destino']\n",
      "Columns to inspect: ['duracion_recorrido', 'fecha_destino_recorrido']\n",
      "Column: fecha_origen_recorrido\t Nulls: 0\n",
      "Column: id_estacion_origen\t Nulls: 0\n",
      "Column: long_estacion_origen\t Nulls: 0\n",
      "Column: lat_estacion_origen\t Nulls: 0\n",
      "Column: duracion_recorrido\t Nulls: 0\n",
      "Column: fecha_destino_recorrido\t Nulls: 0\n",
      "Column: id_estacion_destino\t Nulls: 0\n",
      "Column: long_estacion_destino\t Nulls: 0\n",
      "Column: lat_estacion_destino\t Nulls: 0\n",
      "recorridos-realizados-2014.csv\n",
      "Columns to inspect: ['id_estacion_origen', 'long_estacion_origen', 'lat_estacion_origen']\n",
      "Columns to inspect: ['id_estacion_destino', 'long_estacion_destino', 'lat_estacion_destino']\n",
      "Columns to inspect: ['duracion_recorrido', 'destino_recorrido_fecha']\n",
      "Column: origen_recorrido_fecha\t Nulls: 0\n",
      "Column: id_estacion_origen\t Nulls: 0\n",
      "Column: long_estacion_origen\t Nulls: 0\n",
      "Column: lat_estacion_origen\t Nulls: 0\n",
      "Column: duracion_recorrido\t Nulls: 0\n",
      "Column: destino_recorrido_fecha\t Nulls: 0\n",
      "Column: id_estacion_destino\t Nulls: 0\n",
      "Column: long_estacion_destino\t Nulls: 0\n",
      "Column: lat_estacion_destino\t Nulls: 0\n",
      "recorridos-realizados-2015.csv\n",
      "Columns to inspect: ['id_estacion_origen', 'long_estacion_origen', 'lat_estacion_origen']\n",
      "Columns to inspect: ['id_estacion_destino', 'long_estacion_destino', 'lat_estacion_destino']\n",
      "Columns to inspect: ['duracion_recorrido', 'fecha_destino_recorrido']\n",
      "Column: fecha_origen_recorrido\t Nulls: 0\n",
      "Column: id_estacion_origen\t Nulls: 0\n",
      "Column: long_estacion_origen\t Nulls: 3168\n",
      "Column: lat_estacion_origen\t Nulls: 3168\n",
      "Column: duracion_recorrido\t Nulls: 0\n",
      "Column: fecha_destino_recorrido\t Nulls: 0\n",
      "Column: id_estacion_destino\t Nulls: 0\n",
      "Column: long_estacion_destino\t Nulls: 3462\n",
      "Column: lat_estacion_destino\t Nulls: 3462\n",
      "recorridos-realizados-2016.csv\n",
      "Columns to inspect: ['id_estacion_origen', 'long_estacion_origen', 'lat_estacion_origen']\n",
      "Columns to inspect: ['id_estacion_destino', 'long_estacion_destino', 'lat_estacion_destino']\n",
      "Columns to inspect: ['duracion_recorrido', 'fecha_destino_recorrido']\n",
      "Column: fecha_origen_recorrido\t Nulls: 0\n",
      "Column: id_estacion_origen\t Nulls: 0\n",
      "Column: long_estacion_origen\t Nulls: 0\n",
      "Column: lat_estacion_origen\t Nulls: 0\n",
      "Column: duracion_recorrido\t Nulls: 0\n",
      "Column: fecha_destino_recorrido\t Nulls: 93555\n",
      "Column: id_estacion_destino\t Nulls: 0\n",
      "Column: long_estacion_destino\t Nulls: 0\n",
      "Column: lat_estacion_destino\t Nulls: 0\n",
      "recorridos-realizados-2017.csv\n",
      "Columns to inspect: ['id_estacion_origen', 'long_estacion_origen', 'lat_estacion_origen']\n",
      "Columns to inspect: ['id_estacion_destino', 'long_estacion_destino', 'lat_estacion_destino']\n",
      "Columns to inspect: ['duracion_recorrido', 'fecha_destino_recorrido']\n",
      "Column: fecha_origen_recorrido\t Nulls: 0\n",
      "Column: id_estacion_origen\t Nulls: 0\n",
      "Column: long_estacion_origen\t Nulls: 0\n",
      "Column: lat_estacion_origen\t Nulls: 0\n",
      "Column: duracion_recorrido\t Nulls: 0\n",
      "Column: fecha_destino_recorrido\t Nulls: 540572\n",
      "Column: id_estacion_destino\t Nulls: 0\n",
      "Column: long_estacion_destino\t Nulls: 0\n",
      "Column: lat_estacion_destino\t Nulls: 0\n",
      "recorridos-realizados-2018.csv\n",
      "Columns to inspect: ['id_estacion_origen', 'long_estacion_origen', 'lat_estacion_origen']\n",
      "Columns to inspect: ['id_estacion_destino', 'long_estacion_destino', 'lat_estacion_destino']\n",
      "Columns to inspect: ['duracion_recorrido', 'fecha_destino_recorrido']\n",
      "Column: fecha_origen_recorrido\t Nulls: 0\n",
      "Column: id_estacion_origen\t Nulls: 0\n",
      "Column: long_estacion_origen\t Nulls: 0\n",
      "Column: lat_estacion_origen\t Nulls: 0\n",
      "Column: duracion_recorrido\t Nulls: 0\n",
      "Column: fecha_destino_recorrido\t Nulls: 0\n",
      "Column: id_estacion_destino\t Nulls: 0\n",
      "Column: long_estacion_destino\t Nulls: 0\n",
      "Column: lat_estacion_destino\t Nulls: 0\n",
      "recorridos-realizados-2019.csv\n",
      "Columns to inspect: ['id_estacion_origen', 'lat_estacion_origen', 'long_estacion_origen']\n",
      "Columns to inspect: ['id_estacion_destino', 'lat_estacion_destino', 'long_estacion_destino']\n",
      "Columns to inspect: ['duracion_recorrido', 'fecha_destino_recorrido']\n",
      "Column: fecha_origen_recorrido\t Nulls: 0\n",
      "Column: id_estacion_origen\t Nulls: 0\n",
      "Column: lat_estacion_origen\t Nulls: 2135\n",
      "Column: long_estacion_origen\t Nulls: 2135\n",
      "Column: duracion_recorrido\t Nulls: 0\n",
      "Column: fecha_destino_recorrido\t Nulls: 0\n",
      "Column: id_estacion_destino\t Nulls: 0\n",
      "Column: lat_estacion_destino\t Nulls: 2167\n",
      "Column: long_estacion_destino\t Nulls: 2167\n"
     ]
    }
   ],
   "source": [
    "for file, columns in columns_per_files.items():\n",
    "    print(file)\n",
    "    rides = spark.read.csv(file, header=True)\n",
    "    rides = rides.select(*columns)\n",
    "    \n",
    "    # Deleting rows about origin station\n",
    "    cols = columns[1:4]\n",
    "    print(f\"Columns to inspect: {cols}\")\n",
    "    rides = rides.dropna(how=\"all\", subset=cols)\n",
    "    \n",
    "    # Deleting rows about target station\n",
    "    cols = columns[6:]\n",
    "    print(f\"Columns to inspect: {cols}\")\n",
    "    rides = rides.dropna(how=\"all\", subset=cols)\n",
    "    \n",
    "    # Deleting rows about date and duration ride\n",
    "    cols = columns[4:6]\n",
    "    print(f\"Columns to inspect: {cols}\")\n",
    "    rides = rides.dropna(how=\"all\", subset=cols)\n",
    "    \n",
    "    for column in columns:\n",
    "        print(f\"Column: {column}\\t Nulls: {rides.filter(F.isnull(column)).count()}\")\n",
    "    \n",
    "    # Writing each dataframe a in unified table\n",
    "    #tablename = f\"rides-{file[-8:-4]}\"\n",
    "    tablename = f\"rides{file[-8:-4]}\" # rides string + year\n",
    "    rides.write.saveAsTable(tablename)"
   ]
  },
  {
   "cell_type": "markdown",
   "metadata": {},
   "source": [
    "### **Filling nulls values**"
   ]
  },
  {
   "cell_type": "code",
   "execution_count": 6,
   "metadata": {},
   "outputs": [],
   "source": [
    "def change_column_dtype(df, column, new_dtype):\n",
    "    df = df.withColumn(column, \\\n",
    "                             df[column] \\\n",
    "                              .cast(new_dtype) \\\n",
    "                              .alias(column))\n",
    "    return df"
   ]
  },
  {
   "cell_type": "markdown",
   "metadata": {},
   "source": [
    "Se cuenta con un dataset con datos como id, nombre, latitud, longitud, direccion, etc. de cada estacion de ecobici."
   ]
  },
  {
   "cell_type": "code",
   "execution_count": 7,
   "metadata": {},
   "outputs": [
    {
     "name": "stdout",
     "output_type": "stream",
     "text": [
      "lat long nombre_estacion id_estacion capacidad dirección_completa direccion_nombre direccion_altura direccion_interseccion barrio\n"
     ]
    }
   ],
   "source": [
    "stations = spark.read.csv(\"estaciones-bicicletas-publicas.csv\", header=True)\n",
    "stations = stations.repartition(1)\n",
    "# stations.rdd.getNumPartitions()\n",
    "print(*stations.columns)"
   ]
  },
  {
   "cell_type": "code",
   "execution_count": 8,
   "metadata": {},
   "outputs": [
    {
     "data": {
      "text/plain": [
       "[('id_estacion', 'int')]"
      ]
     },
     "execution_count": 8,
     "metadata": {},
     "output_type": "execute_result"
    }
   ],
   "source": [
    "stations = change_column_dtype(stations, \"id_estacion\", \"int\")\n",
    "stations.select(\"id_estacion\").dtypes"
   ]
  },
  {
   "cell_type": "markdown",
   "metadata": {},
   "source": [
    "Primero trabajaremos con los campos referidos a **latitud** y **longitud**, donde solo los archivos de los años 2015 y 2019 presentaban valores nulos en dichos campos."
   ]
  },
  {
   "cell_type": "code",
   "execution_count": 9,
   "metadata": {},
   "outputs": [
    {
     "name": "stdout",
     "output_type": "stream",
     "text": [
      "rides2015\n",
      "+------------------+\n",
      "|id_estacion_origen|\n",
      "+------------------+\n",
      "|                15|\n",
      "|                39|\n",
      "+------------------+\n",
      "\n",
      "+-------------------+\n",
      "|id_estacion_destino|\n",
      "+-------------------+\n",
      "|                 15|\n",
      "|                 39|\n",
      "+-------------------+\n",
      "\n",
      "rides2019\n",
      "+------------------+\n",
      "|id_estacion_origen|\n",
      "+------------------+\n",
      "|             159_0|\n",
      "|              44_0|\n",
      "+------------------+\n",
      "\n",
      "+-------------------+\n",
      "|id_estacion_destino|\n",
      "+-------------------+\n",
      "|              159_0|\n",
      "|               44_0|\n",
      "+-------------------+\n",
      "\n"
     ]
    }
   ],
   "source": [
    "for year in [\"2015\", \"2019\"]:\n",
    "    print(f\"rides{year}\")\n",
    "    rides = spark.table(f\"rides{year}\")\n",
    "    rides.filter(F.isnull(\"lat_estacion_origen\") & \\\n",
    "                F.isnull(\"long_estacion_origen\")) \\\n",
    "        .select(\"id_estacion_origen\").distinct().show()\n",
    "    \n",
    "    rides.filter(F.isnull(\"lat_estacion_destino\") & \\\n",
    "                F.isnull(\"long_estacion_destino\")) \\\n",
    "        .select(\"id_estacion_destino\").distinct().show()"
   ]
  },
  {
   "cell_type": "markdown",
   "metadata": {},
   "source": [
    "Respecto a los particulares ids \"159_0\" y \"44_0\", los verificaremos con el dataset de estaciones"
   ]
  },
  {
   "cell_type": "code",
   "execution_count": 10,
   "metadata": {},
   "outputs": [
    {
     "name": "stdout",
     "output_type": "stream",
     "text": [
      "+-----------+\n",
      "|id_estacion|\n",
      "+-----------+\n",
      "|         15|\n",
      "|         39|\n",
      "|         44|\n",
      "+-----------+\n",
      "\n"
     ]
    }
   ],
   "source": [
    "stations.filter((stations.id_estacion == 15) | (stations.id_estacion == 39) | \\\n",
    "               (stations.id_estacion == 159) | (stations.id_estacion == 44) | \\\n",
    "               (stations.id_estacion == \"44_0\") | (stations.id_estacion == \"159_0\")) \\\n",
    "        .select(\"id_estacion\").show()"
   ]
  },
  {
   "cell_type": "markdown",
   "metadata": {},
   "source": [
    "La estacion de id \"159_0\" o 159 no existe, se puede descartar las filas con ese valor.\n",
    "Luego, nos aseguramos que el valor de id \"44_0\", corresponde a 44."
   ]
  },
  {
   "cell_type": "code",
   "execution_count": 12,
   "metadata": {},
   "outputs": [
    {
     "name": "stdout",
     "output_type": "stream",
     "text": [
      "+----------------------+\n",
      "|nombre_estacion_origen|\n",
      "+----------------------+\n",
      "|             Ecoparque|\n",
      "+----------------------+\n",
      "only showing top 1 row\n",
      "\n",
      "+---------------+\n",
      "|nombre_estacion|\n",
      "+---------------+\n",
      "|044 - Ecoparque|\n",
      "+---------------+\n",
      "\n"
     ]
    }
   ],
   "source": [
    "spark.read.csv(\"recorridos-realizados-2019.csv\", header=True) \\\n",
    ".filter(\"id_estacion_origen = '44_0'\") \\\n",
    ".select(\"nombre_estacion_origen\").show(1)\n",
    "\n",
    "stations.filter(\"id_estacion == 44\").select(\"nombre_estacion\").show()"
   ]
  },
  {
   "cell_type": "markdown",
   "metadata": {},
   "source": [
    "Efectivamente, coinciden. Ahora continuamos con los tratamientos correspondientes"
   ]
  },
  {
   "cell_type": "code",
   "execution_count": 14,
   "metadata": {},
   "outputs": [],
   "source": [
    "rides = spark.table(\"rides2019\")\n",
    "rides = rides.replace(\"44_0\", \"44\", subset=[\"id_estacion_origen\", \"id_estacion_destino\"])\n",
    "rides = change_column_dtype(rides, \"id_estacion_origen\", \"int\")\n",
    "rides = change_column_dtype(rides, \"id_estacion_destino\", \"int\")\n",
    "rides = rides.na.drop(how=\"any\", subset=[\"id_estacion_origen\", \"id_estacion_destino\"])\n",
    "rides.write.saveAsTable(\"temp\")\n",
    "spark.table(\"temp\").write.insertInto(\"rides2019\", overwrite=True)"
   ]
  },
  {
   "cell_type": "markdown",
   "metadata": {},
   "source": [
    "Finalmente, ya podemos completar los valores nulos para los campos de latidad y longitud"
   ]
  },
  {
   "cell_type": "code",
   "execution_count": 16,
   "metadata": {},
   "outputs": [],
   "source": [
    "def filling_geographical_fields(rides_df, stations_df, coord_type, station_type):\n",
    "    \"\"\"\n",
    "    coord_type: lat/long\n",
    "    station_type: origen/destino\n",
    "    \"\"\"\n",
    "    stations_df = stations_df.select(*[\"id_estacion\", \"lat\", \"long\"])\n",
    "    stations_df = stations_df.withColumn(f\"id_estacion_{station_type}\", \\\n",
    "                                        F.col(\"id_estacion\"))\n",
    "    \n",
    "    joined_df = rides_df.join(stations_df, on=f\"id_estacion_{station_type}\")\n",
    "    joined_df = joined_df.withColumn(f\"{coord_type}_estacion_{station_type}\", \\\n",
    "                                F.coalesce(joined_df[f\"{coord_type}_estacion_{station_type}\"], \\\n",
    "                                          joined_df[coord_type]))\n",
    "    joined_df = joined_df.drop(\"id_estacion\", \"lat\", \"long\")\n",
    "    return joined_df"
   ]
  },
  {
   "cell_type": "code",
   "execution_count": 23,
   "metadata": {},
   "outputs": [
    {
     "name": "stdout",
     "output_type": "stream",
     "text": [
      "rides2015\n",
      "Column: long_estacion_origen\t Nulls: 0\n",
      "Column: lat_estacion_origen\t Nulls: 0\n",
      "Column: long_estacion_destino\t Nulls: 0\n",
      "Column: lat_estacion_destino\t Nulls: 0\n",
      "rides2019\n",
      "Column: lat_estacion_origen\t Nulls: 0\n",
      "Column: long_estacion_origen\t Nulls: 0\n",
      "Column: lat_estacion_destino\t Nulls: 0\n",
      "Column: long_estacion_destino\t Nulls: 0\n"
     ]
    }
   ],
   "source": [
    "for year in [\"2015\", \"2019\"]:\n",
    "    rides = spark.table(f\"rides{year}\")\n",
    "    for station_type in [\"origen\", \"destino\"]:\n",
    "        for coord_type in [\"lat\", \"long\"]:\n",
    "            rides = filling_geographical_fields(rides, stations, coord_type, station_type)\n",
    "            \n",
    "    print(f\"rides{year}\")\n",
    "    for column in rides.columns:\n",
    "        if 'lat' in column or 'long' in column:\n",
    "            print(f\"Column: {column}\\t Nulls: {rides.filter(F.isnull(column)).count()}\")\n",
    "    \n",
    "    rides.write.saveAsTable(\"temp\", mode=\"overwrite\")\n",
    "    spark.table(\"temp\").write.insertInto(f\"rides{year}\", overwrite=True)\n",
    "        \n",
    "    "
   ]
  },
  {
   "cell_type": "markdown",
   "metadata": {},
   "source": []
  },
  {
   "cell_type": "code",
   "execution_count": null,
   "metadata": {},
   "outputs": [],
   "source": []
  }
 ],
 "metadata": {
  "kernelspec": {
   "display_name": "Python 3",
   "language": "python",
   "name": "python3"
  },
  "language_info": {
   "codemirror_mode": {
    "name": "ipython",
    "version": 3
   },
   "file_extension": ".py",
   "mimetype": "text/x-python",
   "name": "python",
   "nbconvert_exporter": "python",
   "pygments_lexer": "ipython3",
   "version": "3.7.6"
  }
 },
 "nbformat": 4,
 "nbformat_minor": 4
}

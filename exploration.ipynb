{
 "cells": [
  {
   "cell_type": "markdown",
   "metadata": {},
   "source": [
    "## **Conociendo los datos**"
   ]
  },
  {
   "cell_type": "markdown",
   "metadata": {},
   "source": [
    "Luego de haber de hecho una limpieza y aplicado algunas transformaciones sobre los datos, continuamos con algunas observaciones sobre los datos"
   ]
  },
  {
   "cell_type": "code",
   "execution_count": 1,
   "metadata": {},
   "outputs": [],
   "source": [
    "from pyspark.sql import SparkSession\n",
    "from pyspark.sql import functions as F\n",
    "\n",
    "import pandas as pd"
   ]
  },
  {
   "cell_type": "code",
   "execution_count": 2,
   "metadata": {},
   "outputs": [],
   "source": [
    "import os\n",
    "PG_JDBC_PATH = \"/home/jovyan/ecobici_rides/postgresql-42.2.12.jar\"\n",
    "os.environ[\"PYSPARK_SUBMIT_ARGS\"] = f\"--driver-class-path {PG_JDBC_PATH} --jars {PG_JDBC_PATH} pyspark-shell\""
   ]
  },
  {
   "cell_type": "code",
   "execution_count": 3,
   "metadata": {},
   "outputs": [],
   "source": [
    "spark = SparkSession.builder \\\n",
    "            .master(\"local[*]\") \\\n",
    "            .appName(\"exploration\") \\\n",
    "            .getOrCreate()"
   ]
  },
  {
   "cell_type": "code",
   "execution_count": 4,
   "metadata": {},
   "outputs": [],
   "source": [
    "rides = spark.read.parquet(\"tables/*\")"
   ]
  },
  {
   "cell_type": "code",
   "execution_count": 12,
   "metadata": {},
   "outputs": [
    {
     "name": "stdout",
     "output_type": "stream",
     "text": [
      "root\n",
      " |-- fecha_origen_recorrido: timestamp (nullable = true)\n",
      " |-- id_estacion_origen: integer (nullable = true)\n",
      " |-- lat_estacion_origen: double (nullable = true)\n",
      " |-- long_estacion_origen: double (nullable = true)\n",
      " |-- duracion_recorrido: integer (nullable = true)\n",
      " |-- fecha_destino_recorrido: timestamp (nullable = true)\n",
      " |-- id_estacion_destino: integer (nullable = true)\n",
      " |-- lat_estacion_destino: double (nullable = true)\n",
      " |-- long_estacion_destino: double (nullable = true)\n",
      "\n"
     ]
    }
   ],
   "source": [
    "cols = list(filter(lambda x: x.startswith('lat') or x.startswith('long'), \\\n",
    "       rides.columns))\n",
    "\n",
    "for c in cols:\n",
    "    rides = rides.withColumn(c, \\\n",
    "                            F.col(c).cast('double'))\n",
    "rides.printSchema()"
   ]
  },
  {
   "cell_type": "code",
   "execution_count": 10,
   "metadata": {},
   "outputs": [
    {
     "name": "stdout",
     "output_type": "stream",
     "text": [
      "fecha_origen_recorrido\t0\n",
      "id_estacion_origen\t0\n",
      "lat_estacion_origen\t0\n",
      "long_estacion_origen\t0\n",
      "duracion_recorrido\t0\n",
      "fecha_destino_recorrido\t0\n",
      "id_estacion_destino\t0\n",
      "lat_estacion_destino\t0\n",
      "long_estacion_destino\t0\n"
     ]
    }
   ],
   "source": [
    "for _ in rides.columns:\n",
    "    print(_, end=\"\\t\")\n",
    "    print(rides.filter(F.isnull(_)).count())"
   ]
  },
  {
   "cell_type": "markdown",
   "metadata": {},
   "source": [
    "Veamos sobre los diferentes id. de las estaciones"
   ]
  },
  {
   "cell_type": "code",
   "execution_count": 11,
   "metadata": {},
   "outputs": [
    {
     "name": "stdout",
     "output_type": "stream",
     "text": [
      "+-----------------------+-----------------------+----------------------------------+\n",
      "|max(id_estacion_origen)|min(id_estacion_origen)|count(DISTINCT id_estacion_origen)|\n",
      "+-----------------------+-----------------------+----------------------------------+\n",
      "|                    449|                      1|                               426|\n",
      "+-----------------------+-----------------------+----------------------------------+\n",
      "\n",
      "+------------------------+------------------------+-----------------------------------+\n",
      "|max(id_estacion_destino)|min(id_estacion_destino)|count(DISTINCT id_estacion_destino)|\n",
      "+------------------------+------------------------+-----------------------------------+\n",
      "|                     449|                       1|                                426|\n",
      "+------------------------+------------------------+-----------------------------------+\n",
      "\n"
     ]
    }
   ],
   "source": [
    "for id_estacion in [\"id_estacion_origen\", \"id_estacion_destino\"]:\n",
    "    rides.select(F.max(id_estacion), \\\n",
    "                F.min(id_estacion), \\\n",
    "                F.countDistinct(id_estacion)) \\\n",
    "        .show()"
   ]
  },
  {
   "cell_type": "markdown",
   "metadata": {},
   "source": [
    "Cada recorrido debería transcurrir en un mismo día. Sin embargo, observemos la siguiente particularidad"
   ]
  },
  {
   "cell_type": "code",
   "execution_count": 5,
   "metadata": {},
   "outputs": [
    {
     "name": "stdout",
     "output_type": "stream",
     "text": [
      "+---------+\n",
      "|diff_days|\n",
      "+---------+\n",
      "|      148|\n",
      "|      -35|\n",
      "|     -265|\n",
      "|      322|\n",
      "|      -13|\n",
      "+---------+\n",
      "only showing top 5 rows\n",
      "\n",
      "+-------------------------+--------------+--------------+\n",
      "|count(DISTINCT diff_days)|max(diff_days)|min(diff_days)|\n",
      "+-------------------------+--------------+--------------+\n",
      "|                      112|           323|          -323|\n",
      "+-------------------------+--------------+--------------+\n",
      "\n"
     ]
    }
   ],
   "source": [
    "rides = rides.withColumn(\"diff_days\", \\\n",
    "                        F.datediff(\"fecha_origen_recorrido\", \"fecha_destino_recorrido\"))\n",
    "rides.select(\"diff_days\").distinct().show(5)\n",
    "rides.select(F.countDistinct(\"diff_days\"), \\\n",
    "            F.max(\"diff_days\"), \\\n",
    "            F.min(\"diff_days\")).show()"
   ]
  },
  {
   "cell_type": "code",
   "execution_count": 13,
   "metadata": {},
   "outputs": [
    {
     "name": "stdout",
     "output_type": "stream",
     "text": [
      "Menor a cero: 178227\n",
      "Igual a cero: 9968126\n",
      "Mayor a cero: 51322\n"
     ]
    }
   ],
   "source": [
    "print(f\"Menor a cero: {rides.filter('diff_days < 0').count()}\")\n",
    "print(f\"Igual a cero: {rides.filter('diff_days = 0').count()}\")\n",
    "print(f\"Mayor a cero: {rides.filter('diff_days > 0').count()}\")"
   ]
  },
  {
   "cell_type": "markdown",
   "metadata": {},
   "source": [
    "La nueva columna, *diff_days*, indica la cantidad de días que abarcó el recorrido.\n",
    "\n",
    "Existen 112 valores diferentes para dicha cantidad de días.\n",
    "\n",
    "El recorrido de máxima duración fue de 323 días, **casi un año**.\n",
    "\n",
    "Hay recorridos de duración negativa.\n",
    "\n",
    "Considero trabajar con los recorridos cuya duración fue de *0 días*."
   ]
  },
  {
   "cell_type": "code",
   "execution_count": 6,
   "metadata": {},
   "outputs": [],
   "source": [
    "rides = rides.filter('diff_days = 0')"
   ]
  },
  {
   "cell_type": "markdown",
   "metadata": {},
   "source": [
    "Consultando los [datos](https://data.buenosaires.gob.ar/dataset/estaciones-bicicletas-publicas) del sistema de bicicletas públicas, veo que hay dos datasets sobre las estaciones de bicicletas, *inicial* y *nuevo*"
   ]
  },
  {
   "cell_type": "code",
   "execution_count": 4,
   "metadata": {},
   "outputs": [
    {
     "name": "stdout",
     "output_type": "stream",
     "text": [
      "lat,long,nombre_estacion,id_estacion,capacidad,dirección_completa,direccion_nombre,direccion_altura,direccion_interseccion,barrio\n"
     ]
    }
   ],
   "source": [
    "!head -1 estaciones-bicicletas-publicas.csv"
   ]
  },
  {
   "cell_type": "code",
   "execution_count": 5,
   "metadata": {},
   "outputs": [
    {
     "name": "stdout",
     "output_type": "stream",
     "text": [
      "Id. de estacion max. 449\n",
      "Id. de estacion min. 2\n",
      "Cant. de ids 396\n"
     ]
    }
   ],
   "source": [
    "# Sistema nuevo\n",
    "cols = ['id_estacion', 'nombre_estacion', 'lat', 'long']\n",
    "stations = pd.read_csv(\"estaciones-bicicletas-publicas.csv\", usecols=cols)\n",
    "stations = stations.astype({'id_estacion':'int32'})\n",
    "stations.nombre_estacion = stations.nombre_estacion.str.split('-') \\\n",
    "                        .apply(lambda r: r[-1].strip())\n",
    "print(f\"Id. de estacion max. {stations.id_estacion.max()}\")\n",
    "print(f\"Id. de estacion min. {stations.id_estacion.min()}\")\n",
    "print(f\"Cant. de ids {stations.shape[0]}\")"
   ]
  },
  {
   "cell_type": "markdown",
   "metadata": {},
   "source": [
    "Observando los datos de las estaciones del sistema *nuevo/actual*, veo que la cantidad de estaciones es menor a la cantidad de estaciones registrados en los datasets de recorridos"
   ]
  },
  {
   "cell_type": "code",
   "execution_count": 6,
   "metadata": {},
   "outputs": [
    {
     "name": "stdout",
     "output_type": "stream",
     "text": [
      "133 108 34 81 103 157 140 1 16 142 178 139 37 61 35 100 136 129 97 10 113 160 125 145 109 147 198 123 67 18\n",
      "133 108 34 81 103 157 140 1 16 142 178 139 37 61 35 100 136 129 97 10 113 160 125 145 109 147 198 123 67 18\n"
     ]
    }
   ],
   "source": [
    "for id_estacion in [\"id_estacion_origen\", \"id_estacion_destino\"]:\n",
    "    ids_in_rides = rides.select(id_estacion).distinct().toPandas()\n",
    "    other_stations = list(filter(lambda x: x not in stations['id_estacion'].values, \\\n",
    "                ids_in_rides[id_estacion].values))\n",
    "    print(*other_stations)"
   ]
  },
  {
   "cell_type": "markdown",
   "metadata": {},
   "source": [
    "Verificamos que los id. listados anteriormente se encuentran registrados en los datos del sistema *inicial*"
   ]
  },
  {
   "cell_type": "code",
   "execution_count": 7,
   "metadata": {},
   "outputs": [
    {
     "name": "stdout",
     "output_type": "stream",
     "text": [
      "id_estacion,nombre_estacion,long_estacion,lat_estacion,domicilio_estacion,tipo_estacion,observaciones,horario_estacion\n"
     ]
    }
   ],
   "source": [
    "!head -1 estaciones_sistema_viejo.csv\n",
    "cols = ['id_estacion', 'nombre_estacion', 'lat_estacion', 'long_estacion']\n",
    "old_stations = pd.read_csv(\"estaciones_sistema_viejo.csv\", usecols=cols)\n",
    "old_stations.dropna(subset=['id_estacion'], inplace=True)\n",
    "old_stations = old_stations.astype({'id_estacion': 'int32'})\n",
    "old_stations = old_stations.set_index('id_estacion')"
   ]
  },
  {
   "cell_type": "code",
   "execution_count": 8,
   "metadata": {},
   "outputs": [
    {
     "data": {
      "text/html": [
       "<div>\n",
       "<style scoped>\n",
       "    .dataframe tbody tr th:only-of-type {\n",
       "        vertical-align: middle;\n",
       "    }\n",
       "\n",
       "    .dataframe tbody tr th {\n",
       "        vertical-align: top;\n",
       "    }\n",
       "\n",
       "    .dataframe thead th {\n",
       "        text-align: right;\n",
       "    }\n",
       "</style>\n",
       "<table border=\"1\" class=\"dataframe\">\n",
       "  <thead>\n",
       "    <tr style=\"text-align: right;\">\n",
       "      <th></th>\n",
       "      <th>nombre_estacion</th>\n",
       "      <th>long_estacion</th>\n",
       "      <th>lat_estacion</th>\n",
       "    </tr>\n",
       "    <tr>\n",
       "      <th>id_estacion</th>\n",
       "      <th></th>\n",
       "      <th></th>\n",
       "      <th></th>\n",
       "    </tr>\n",
       "  </thead>\n",
       "  <tbody>\n",
       "    <tr>\n",
       "      <th>133</th>\n",
       "      <td>Nicaragua</td>\n",
       "      <td>-58.434383</td>\n",
       "      <td>-34.581040</td>\n",
       "    </tr>\n",
       "    <tr>\n",
       "      <th>108</th>\n",
       "      <td>Usina del Arte</td>\n",
       "      <td>-58.356257</td>\n",
       "      <td>-34.628781</td>\n",
       "    </tr>\n",
       "    <tr>\n",
       "      <th>34</th>\n",
       "      <td>Galerías Pacífico</td>\n",
       "      <td>-58.374157</td>\n",
       "      <td>-34.599579</td>\n",
       "    </tr>\n",
       "    <tr>\n",
       "      <th>81</th>\n",
       "      <td>Balcarce</td>\n",
       "      <td>-58.370879</td>\n",
       "      <td>-34.615847</td>\n",
       "    </tr>\n",
       "    <tr>\n",
       "      <th>103</th>\n",
       "      <td>Malba</td>\n",
       "      <td>-58.403533</td>\n",
       "      <td>-34.577415</td>\n",
       "    </tr>\n",
       "    <tr>\n",
       "      <th>157</th>\n",
       "      <td>Senillosa y Zuviría</td>\n",
       "      <td>-58.427952</td>\n",
       "      <td>-34.628309</td>\n",
       "    </tr>\n",
       "    <tr>\n",
       "      <th>140</th>\n",
       "      <td>Las Casas</td>\n",
       "      <td>-58.415775</td>\n",
       "      <td>-34.635148</td>\n",
       "    </tr>\n",
       "    <tr>\n",
       "      <th>1</th>\n",
       "      <td>Facultad de Derecho</td>\n",
       "      <td>-58.392452</td>\n",
       "      <td>-34.583133</td>\n",
       "    </tr>\n",
       "    <tr>\n",
       "      <th>16</th>\n",
       "      <td>Legislatura</td>\n",
       "      <td>-58.374717</td>\n",
       "      <td>-34.609959</td>\n",
       "    </tr>\n",
       "    <tr>\n",
       "      <th>142</th>\n",
       "      <td>Armenia y Gorriti</td>\n",
       "      <td>-58.428888</td>\n",
       "      <td>-34.590554</td>\n",
       "    </tr>\n",
       "    <tr>\n",
       "      <th>178</th>\n",
       "      <td>José Marmol</td>\n",
       "      <td>-58.424867</td>\n",
       "      <td>-34.623457</td>\n",
       "    </tr>\n",
       "    <tr>\n",
       "      <th>139</th>\n",
       "      <td>Virrey Liniers</td>\n",
       "      <td>-58.413150</td>\n",
       "      <td>-34.633309</td>\n",
       "    </tr>\n",
       "    <tr>\n",
       "      <th>37</th>\n",
       "      <td>Piedras</td>\n",
       "      <td>-58.377864</td>\n",
       "      <td>-34.607914</td>\n",
       "    </tr>\n",
       "    <tr>\n",
       "      <th>61</th>\n",
       "      <td>Ministerio de Economía</td>\n",
       "      <td>-58.370834</td>\n",
       "      <td>-34.609086</td>\n",
       "    </tr>\n",
       "    <tr>\n",
       "      <th>35</th>\n",
       "      <td>Ingeniero Butty</td>\n",
       "      <td>-58.371858</td>\n",
       "      <td>-34.596327</td>\n",
       "    </tr>\n",
       "    <tr>\n",
       "      <th>100</th>\n",
       "      <td>Castillo</td>\n",
       "      <td>-58.436771</td>\n",
       "      <td>-34.592707</td>\n",
       "    </tr>\n",
       "    <tr>\n",
       "      <th>136</th>\n",
       "      <td>Acevedo</td>\n",
       "      <td>-58.442901</td>\n",
       "      <td>-34.599813</td>\n",
       "    </tr>\n",
       "    <tr>\n",
       "      <th>129</th>\n",
       "      <td>Velasco</td>\n",
       "      <td>-58.434955</td>\n",
       "      <td>-34.600165</td>\n",
       "    </tr>\n",
       "    <tr>\n",
       "      <th>97</th>\n",
       "      <td>Avelino Díaz</td>\n",
       "      <td>-58.427401</td>\n",
       "      <td>-34.635250</td>\n",
       "    </tr>\n",
       "    <tr>\n",
       "      <th>10</th>\n",
       "      <td>Puerto Madero - UCA</td>\n",
       "      <td>-58.365746</td>\n",
       "      <td>-34.615551</td>\n",
       "    </tr>\n",
       "    <tr>\n",
       "      <th>113</th>\n",
       "      <td>Guatemala</td>\n",
       "      <td>-58.425205</td>\n",
       "      <td>-34.585669</td>\n",
       "    </tr>\n",
       "    <tr>\n",
       "      <th>160</th>\n",
       "      <td>Godoy Cruz y Libertador</td>\n",
       "      <td>-58.420210</td>\n",
       "      <td>-34.572962</td>\n",
       "    </tr>\n",
       "    <tr>\n",
       "      <th>125</th>\n",
       "      <td>Oro</td>\n",
       "      <td>-58.428217</td>\n",
       "      <td>-34.583480</td>\n",
       "    </tr>\n",
       "    <tr>\n",
       "      <th>145</th>\n",
       "      <td>Ravignani</td>\n",
       "      <td>-58.437837</td>\n",
       "      <td>-34.580469</td>\n",
       "    </tr>\n",
       "    <tr>\n",
       "      <th>109</th>\n",
       "      <td>Lerma</td>\n",
       "      <td>-58.429591</td>\n",
       "      <td>-34.596694</td>\n",
       "    </tr>\n",
       "    <tr>\n",
       "      <th>147</th>\n",
       "      <td>Constitución I</td>\n",
       "      <td>-58.379105</td>\n",
       "      <td>-34.627455</td>\n",
       "    </tr>\n",
       "    <tr>\n",
       "      <th>198</th>\n",
       "      <td>Hospital Sardá</td>\n",
       "      <td>-58.404138</td>\n",
       "      <td>-34.634380</td>\n",
       "    </tr>\n",
       "    <tr>\n",
       "      <th>123</th>\n",
       "      <td>Armenia</td>\n",
       "      <td>-58.421044</td>\n",
       "      <td>-34.585424</td>\n",
       "    </tr>\n",
       "    <tr>\n",
       "      <th>67</th>\n",
       "      <td>Senillosa</td>\n",
       "      <td>-58.425477</td>\n",
       "      <td>-34.638501</td>\n",
       "    </tr>\n",
       "    <tr>\n",
       "      <th>18</th>\n",
       "      <td>Independencia</td>\n",
       "      <td>-58.380481</td>\n",
       "      <td>-34.617373</td>\n",
       "    </tr>\n",
       "  </tbody>\n",
       "</table>\n",
       "</div>"
      ],
      "text/plain": [
       "                     nombre_estacion  long_estacion  lat_estacion\n",
       "id_estacion                                                      \n",
       "133                        Nicaragua     -58.434383    -34.581040\n",
       "108                   Usina del Arte     -58.356257    -34.628781\n",
       "34                 Galerías Pacífico     -58.374157    -34.599579\n",
       "81                          Balcarce     -58.370879    -34.615847\n",
       "103                            Malba     -58.403533    -34.577415\n",
       "157              Senillosa y Zuviría     -58.427952    -34.628309\n",
       "140                        Las Casas     -58.415775    -34.635148\n",
       "1                Facultad de Derecho     -58.392452    -34.583133\n",
       "16                       Legislatura     -58.374717    -34.609959\n",
       "142                Armenia y Gorriti     -58.428888    -34.590554\n",
       "178                      José Marmol     -58.424867    -34.623457\n",
       "139                   Virrey Liniers     -58.413150    -34.633309\n",
       "37                           Piedras     -58.377864    -34.607914\n",
       "61            Ministerio de Economía     -58.370834    -34.609086\n",
       "35                   Ingeniero Butty     -58.371858    -34.596327\n",
       "100                         Castillo     -58.436771    -34.592707\n",
       "136                          Acevedo     -58.442901    -34.599813\n",
       "129                          Velasco     -58.434955    -34.600165\n",
       "97                      Avelino Díaz     -58.427401    -34.635250\n",
       "10               Puerto Madero - UCA     -58.365746    -34.615551\n",
       "113                        Guatemala     -58.425205    -34.585669\n",
       "160          Godoy Cruz y Libertador     -58.420210    -34.572962\n",
       "125                              Oro     -58.428217    -34.583480\n",
       "145                        Ravignani     -58.437837    -34.580469\n",
       "109                            Lerma     -58.429591    -34.596694\n",
       "147                   Constitución I     -58.379105    -34.627455\n",
       "198                   Hospital Sardá     -58.404138    -34.634380\n",
       "123                          Armenia     -58.421044    -34.585424\n",
       "67                         Senillosa     -58.425477    -34.638501\n",
       "18                     Independencia     -58.380481    -34.617373"
      ]
     },
     "execution_count": 8,
     "metadata": {},
     "output_type": "execute_result"
    }
   ],
   "source": [
    "old_stations.loc[other_stations]"
   ]
  },
  {
   "cell_type": "code",
   "execution_count": 9,
   "metadata": {},
   "outputs": [
    {
     "data": {
      "text/html": [
       "<div>\n",
       "<style scoped>\n",
       "    .dataframe tbody tr th:only-of-type {\n",
       "        vertical-align: middle;\n",
       "    }\n",
       "\n",
       "    .dataframe tbody tr th {\n",
       "        vertical-align: top;\n",
       "    }\n",
       "\n",
       "    .dataframe thead th {\n",
       "        text-align: right;\n",
       "    }\n",
       "</style>\n",
       "<table border=\"1\" class=\"dataframe\">\n",
       "  <thead>\n",
       "    <tr style=\"text-align: right;\">\n",
       "      <th></th>\n",
       "      <th>id_estacion</th>\n",
       "      <th>nombre_estacion</th>\n",
       "      <th>lat</th>\n",
       "      <th>long</th>\n",
       "    </tr>\n",
       "  </thead>\n",
       "  <tbody>\n",
       "    <tr>\n",
       "      <th>0</th>\n",
       "      <td>2</td>\n",
       "      <td>Retiro I</td>\n",
       "      <td>-34.592423</td>\n",
       "      <td>-58.374715</td>\n",
       "    </tr>\n",
       "    <tr>\n",
       "      <th>1</th>\n",
       "      <td>3</td>\n",
       "      <td>ADUANA</td>\n",
       "      <td>-34.611032</td>\n",
       "      <td>-58.368260</td>\n",
       "    </tr>\n",
       "    <tr>\n",
       "      <th>2</th>\n",
       "      <td>4</td>\n",
       "      <td>Plaza Roma</td>\n",
       "      <td>-34.601726</td>\n",
       "      <td>-58.368763</td>\n",
       "    </tr>\n",
       "    <tr>\n",
       "      <th>3</th>\n",
       "      <td>5</td>\n",
       "      <td>Plaza Italia</td>\n",
       "      <td>-34.580550</td>\n",
       "      <td>-58.420954</td>\n",
       "    </tr>\n",
       "    <tr>\n",
       "      <th>4</th>\n",
       "      <td>6</td>\n",
       "      <td>Parque Lezama</td>\n",
       "      <td>-34.628526</td>\n",
       "      <td>-58.369758</td>\n",
       "    </tr>\n",
       "    <tr>\n",
       "      <th>...</th>\n",
       "      <td>...</td>\n",
       "      <td>...</td>\n",
       "      <td>...</td>\n",
       "      <td>...</td>\n",
       "    </tr>\n",
       "    <tr>\n",
       "      <th>391</th>\n",
       "      <td>448</td>\n",
       "      <td>Barrio 31</td>\n",
       "      <td>-34.583250</td>\n",
       "      <td>-58.378731</td>\n",
       "    </tr>\n",
       "    <tr>\n",
       "      <th>392</th>\n",
       "      <td>76</td>\n",
       "      <td>Ayacucho</td>\n",
       "      <td>-34.607408</td>\n",
       "      <td>-58.395055</td>\n",
       "    </tr>\n",
       "    <tr>\n",
       "      <th>393</th>\n",
       "      <td>328</td>\n",
       "      <td>Plaza Houssay</td>\n",
       "      <td>-34.598549</td>\n",
       "      <td>-58.397354</td>\n",
       "    </tr>\n",
       "    <tr>\n",
       "      <th>394</th>\n",
       "      <td>449</td>\n",
       "      <td>San Jose de Flores</td>\n",
       "      <td>-34.628937</td>\n",
       "      <td>-58.463661</td>\n",
       "    </tr>\n",
       "    <tr>\n",
       "      <th>395</th>\n",
       "      <td>197</td>\n",
       "      <td>Quintino Bocayuva</td>\n",
       "      <td>-34.613449</td>\n",
       "      <td>-58.423397</td>\n",
       "    </tr>\n",
       "  </tbody>\n",
       "</table>\n",
       "<p>396 rows × 4 columns</p>\n",
       "</div>"
      ],
      "text/plain": [
       "     id_estacion     nombre_estacion        lat       long\n",
       "0              2            Retiro I -34.592423 -58.374715\n",
       "1              3              ADUANA -34.611032 -58.368260\n",
       "2              4          Plaza Roma -34.601726 -58.368763\n",
       "3              5        Plaza Italia -34.580550 -58.420954\n",
       "4              6       Parque Lezama -34.628526 -58.369758\n",
       "..           ...                 ...        ...        ...\n",
       "391          448           Barrio 31 -34.583250 -58.378731\n",
       "392           76            Ayacucho -34.607408 -58.395055\n",
       "393          328       Plaza Houssay -34.598549 -58.397354\n",
       "394          449  San Jose de Flores -34.628937 -58.463661\n",
       "395          197   Quintino Bocayuva -34.613449 -58.423397\n",
       "\n",
       "[396 rows x 4 columns]"
      ]
     },
     "execution_count": 9,
     "metadata": {},
     "output_type": "execute_result"
    }
   ],
   "source": [
    "stations = stations.loc[:, ['id_estacion', 'nombre_estacion', 'lat', 'long']]\n",
    "stations"
   ]
  },
  {
   "cell_type": "code",
   "execution_count": 10,
   "metadata": {},
   "outputs": [
    {
     "data": {
      "text/html": [
       "<div>\n",
       "<style scoped>\n",
       "    .dataframe tbody tr th:only-of-type {\n",
       "        vertical-align: middle;\n",
       "    }\n",
       "\n",
       "    .dataframe tbody tr th {\n",
       "        vertical-align: top;\n",
       "    }\n",
       "\n",
       "    .dataframe thead th {\n",
       "        text-align: right;\n",
       "    }\n",
       "</style>\n",
       "<table border=\"1\" class=\"dataframe\">\n",
       "  <thead>\n",
       "    <tr style=\"text-align: right;\">\n",
       "      <th></th>\n",
       "      <th>id_estacion</th>\n",
       "      <th>nombre_estacion</th>\n",
       "      <th>lat</th>\n",
       "      <th>long</th>\n",
       "    </tr>\n",
       "  </thead>\n",
       "  <tbody>\n",
       "    <tr>\n",
       "      <th>0</th>\n",
       "      <td>133</td>\n",
       "      <td>Nicaragua</td>\n",
       "      <td>-34.581040</td>\n",
       "      <td>-58.434383</td>\n",
       "    </tr>\n",
       "    <tr>\n",
       "      <th>1</th>\n",
       "      <td>108</td>\n",
       "      <td>Usina del Arte</td>\n",
       "      <td>-34.628781</td>\n",
       "      <td>-58.356257</td>\n",
       "    </tr>\n",
       "    <tr>\n",
       "      <th>2</th>\n",
       "      <td>34</td>\n",
       "      <td>Galerías Pacífico</td>\n",
       "      <td>-34.599579</td>\n",
       "      <td>-58.374157</td>\n",
       "    </tr>\n",
       "    <tr>\n",
       "      <th>3</th>\n",
       "      <td>81</td>\n",
       "      <td>Balcarce</td>\n",
       "      <td>-34.615847</td>\n",
       "      <td>-58.370879</td>\n",
       "    </tr>\n",
       "    <tr>\n",
       "      <th>4</th>\n",
       "      <td>103</td>\n",
       "      <td>Malba</td>\n",
       "      <td>-34.577415</td>\n",
       "      <td>-58.403533</td>\n",
       "    </tr>\n",
       "  </tbody>\n",
       "</table>\n",
       "</div>"
      ],
      "text/plain": [
       "   id_estacion    nombre_estacion        lat       long\n",
       "0          133          Nicaragua -34.581040 -58.434383\n",
       "1          108     Usina del Arte -34.628781 -58.356257\n",
       "2           34  Galerías Pacífico -34.599579 -58.374157\n",
       "3           81           Balcarce -34.615847 -58.370879\n",
       "4          103              Malba -34.577415 -58.403533"
      ]
     },
     "execution_count": 10,
     "metadata": {},
     "output_type": "execute_result"
    }
   ],
   "source": [
    "others = old_stations.loc[other_stations] \\\n",
    "                        .reset_index() \\\n",
    "                        .loc[:,['id_estacion', 'nombre_estacion', 'lat_estacion', 'long_estacion']] \\\n",
    "                        .rename(columns={'lat_estacion': 'lat', 'long_estacion': 'long'})\n",
    "others.head()"
   ]
  },
  {
   "cell_type": "code",
   "execution_count": 11,
   "metadata": {},
   "outputs": [
    {
     "data": {
      "text/html": [
       "<div>\n",
       "<style scoped>\n",
       "    .dataframe tbody tr th:only-of-type {\n",
       "        vertical-align: middle;\n",
       "    }\n",
       "\n",
       "    .dataframe tbody tr th {\n",
       "        vertical-align: top;\n",
       "    }\n",
       "\n",
       "    .dataframe thead th {\n",
       "        text-align: right;\n",
       "    }\n",
       "</style>\n",
       "<table border=\"1\" class=\"dataframe\">\n",
       "  <thead>\n",
       "    <tr style=\"text-align: right;\">\n",
       "      <th></th>\n",
       "      <th>id_estacion</th>\n",
       "      <th>nombre_estacion</th>\n",
       "      <th>lat</th>\n",
       "      <th>long</th>\n",
       "    </tr>\n",
       "  </thead>\n",
       "  <tbody>\n",
       "    <tr>\n",
       "      <th>0</th>\n",
       "      <td>2</td>\n",
       "      <td>Retiro I</td>\n",
       "      <td>-34.592423</td>\n",
       "      <td>-58.374715</td>\n",
       "    </tr>\n",
       "    <tr>\n",
       "      <th>1</th>\n",
       "      <td>3</td>\n",
       "      <td>ADUANA</td>\n",
       "      <td>-34.611032</td>\n",
       "      <td>-58.368260</td>\n",
       "    </tr>\n",
       "    <tr>\n",
       "      <th>2</th>\n",
       "      <td>4</td>\n",
       "      <td>Plaza Roma</td>\n",
       "      <td>-34.601726</td>\n",
       "      <td>-58.368763</td>\n",
       "    </tr>\n",
       "    <tr>\n",
       "      <th>3</th>\n",
       "      <td>5</td>\n",
       "      <td>Plaza Italia</td>\n",
       "      <td>-34.580550</td>\n",
       "      <td>-58.420954</td>\n",
       "    </tr>\n",
       "    <tr>\n",
       "      <th>4</th>\n",
       "      <td>6</td>\n",
       "      <td>Parque Lezama</td>\n",
       "      <td>-34.628526</td>\n",
       "      <td>-58.369758</td>\n",
       "    </tr>\n",
       "    <tr>\n",
       "      <th>...</th>\n",
       "      <td>...</td>\n",
       "      <td>...</td>\n",
       "      <td>...</td>\n",
       "      <td>...</td>\n",
       "    </tr>\n",
       "    <tr>\n",
       "      <th>421</th>\n",
       "      <td>147</td>\n",
       "      <td>Constitución I</td>\n",
       "      <td>-34.627455</td>\n",
       "      <td>-58.379105</td>\n",
       "    </tr>\n",
       "    <tr>\n",
       "      <th>422</th>\n",
       "      <td>198</td>\n",
       "      <td>Hospital Sardá</td>\n",
       "      <td>-34.634380</td>\n",
       "      <td>-58.404138</td>\n",
       "    </tr>\n",
       "    <tr>\n",
       "      <th>423</th>\n",
       "      <td>123</td>\n",
       "      <td>Armenia</td>\n",
       "      <td>-34.585424</td>\n",
       "      <td>-58.421044</td>\n",
       "    </tr>\n",
       "    <tr>\n",
       "      <th>424</th>\n",
       "      <td>67</td>\n",
       "      <td>Senillosa</td>\n",
       "      <td>-34.638501</td>\n",
       "      <td>-58.425477</td>\n",
       "    </tr>\n",
       "    <tr>\n",
       "      <th>425</th>\n",
       "      <td>18</td>\n",
       "      <td>Independencia</td>\n",
       "      <td>-34.617373</td>\n",
       "      <td>-58.380481</td>\n",
       "    </tr>\n",
       "  </tbody>\n",
       "</table>\n",
       "<p>426 rows × 4 columns</p>\n",
       "</div>"
      ],
      "text/plain": [
       "     id_estacion nombre_estacion        lat       long\n",
       "0              2        Retiro I -34.592423 -58.374715\n",
       "1              3          ADUANA -34.611032 -58.368260\n",
       "2              4      Plaza Roma -34.601726 -58.368763\n",
       "3              5    Plaza Italia -34.580550 -58.420954\n",
       "4              6   Parque Lezama -34.628526 -58.369758\n",
       "..           ...             ...        ...        ...\n",
       "421          147  Constitución I -34.627455 -58.379105\n",
       "422          198  Hospital Sardá -34.634380 -58.404138\n",
       "423          123         Armenia -34.585424 -58.421044\n",
       "424           67       Senillosa -34.638501 -58.425477\n",
       "425           18   Independencia -34.617373 -58.380481\n",
       "\n",
       "[426 rows x 4 columns]"
      ]
     },
     "execution_count": 11,
     "metadata": {},
     "output_type": "execute_result"
    }
   ],
   "source": [
    "all_stations = stations.append(others, ignore_index=True)\n",
    "all_stations"
   ]
  },
  {
   "cell_type": "code",
   "execution_count": 12,
   "metadata": {},
   "outputs": [],
   "source": [
    "all_stations.to_csv('all_stations.csv', index=False)"
   ]
  },
  {
   "cell_type": "code",
   "execution_count": 13,
   "metadata": {},
   "outputs": [
    {
     "name": "stdout",
     "output_type": "stream",
     "text": [
      "id_estacion,nombre_estacion,lat,long\n",
      "2,Retiro I,-34.59242329999999,-58.37471510000001\n",
      "3,ADUANA,-34.611032,-58.3682604\n",
      "4,Plaza Roma,-34.6017255,-58.368762800000006\n",
      "5,Plaza Italia,-34.580549700000006,-58.420954200000004\n",
      "6,Parque Lezama,-34.628526,-58.369758\n",
      "7,OBELISCO,-34.606497999999995,-58.381098\n",
      "8,Congreso,-34.6094218,-58.3893364\n",
      "9,Parque Las Heras,-34.585443,-58.407741\n",
      "11,Tribunales,-34.601176200000005,-58.3850791\n"
     ]
    }
   ],
   "source": [
    "!head all_stations.csv"
   ]
  },
  {
   "cell_type": "code",
   "execution_count": 16,
   "metadata": {},
   "outputs": [
    {
     "name": "stdout",
     "output_type": "stream",
     "text": [
      "113,Guatemala,-34.5856694443182,-58.42520465764979\n",
      "160,Godoy Cruz y Libertador,-34.5729623675618,-58.42021025469279\n",
      "125,Oro,-34.5834801072487,-58.4282171673392\n",
      "145,Ravignani,-34.5804694653892,-58.4378366120078\n",
      "109,Lerma,-34.5966937447772,-58.4295906822899\n",
      "147,Constitución I,-34.6274554061156,-58.37910486128021\n",
      "198,Hospital Sardá,-34.6343800087707,-58.4041380643401\n",
      "123,Armenia,-34.5854242215495,-58.421044153603795\n",
      "67,Senillosa,-34.6385009158718,-58.425477470589\n",
      "18,Independencia,-34.6173731525033,-58.3804806550249\n"
     ]
    }
   ],
   "source": [
    "!tail all_stations.csv"
   ]
  },
  {
   "cell_type": "code",
   "execution_count": 8,
   "metadata": {},
   "outputs": [],
   "source": [
    "rides = rides.drop(\"diff_days\")"
   ]
  },
  {
   "cell_type": "code",
   "execution_count": null,
   "metadata": {},
   "outputs": [],
   "source": [
    "connection_string = \"jdbc:postgresql://127.0.0.1/ecobici\"\n",
    "tablename = \"public.rides\"\n",
    "connection_details = {\n",
    "    \"user\": \"<uname>\",\n",
    "    \"password\": \"<pswd>\",\n",
    "    \"driver\": \"org.postgresql.Driver\"\n",
    "}"
   ]
  },
  {
   "cell_type": "code",
   "execution_count": null,
   "metadata": {},
   "outputs": [],
   "source": [
    "rides.write.jdbc(connection_string, tablename, mode='append', properties=connection_details)"
   ]
  }
 ],
 "metadata": {
  "kernelspec": {
   "display_name": "Python 3",
   "language": "python",
   "name": "python3"
  },
  "language_info": {
   "codemirror_mode": {
    "name": "ipython",
    "version": 3
   },
   "file_extension": ".py",
   "mimetype": "text/x-python",
   "name": "python",
   "nbconvert_exporter": "python",
   "pygments_lexer": "ipython3",
   "version": "3.7.6"
  }
 },
 "nbformat": 4,
 "nbformat_minor": 4
}
